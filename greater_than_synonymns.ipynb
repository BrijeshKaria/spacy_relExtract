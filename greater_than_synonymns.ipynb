{
 "cells": [
  {
   "cell_type": "code",
   "execution_count": 12,
   "metadata": {},
   "outputs": [
    {
     "name": "stdout",
     "output_type": "stream",
     "text": [
      "{'not_bad', 'large', 'neat', 'majuscule', 'gravid', 'groovy', 'great', 'with_child', 'enceinte', 'expectant', 'nifty', 'outstanding', 'smashing', 'cracking', 'bang-up', 'swell', 'corking', 'peachy', 'big', 'bully', 'heavy', 'keen', 'greater', 'capital', 'dandy', 'slap-up'}\n"
     ]
    }
   ],
   "source": [
    "import nltk \n",
    "from nltk.corpus import wordnet \n",
    "synonyms = [] \n",
    "antonyms = [] \n",
    "\n",
    "#nltk.download('wordnet')\n",
    "for syn in wordnet.synsets(\"greater\"): \n",
    "    for l in syn.lemmas(): \n",
    "        synonyms.append(l.name()) \n",
    "        #if l.antonyms(): \n",
    "            #antonyms.append(l.antonyms()[0].name()) \n",
    "  \n",
    "print(set(synonyms)) \n",
    "#print(set(antonyms)) "
   ]
  },
  {
   "cell_type": "code",
   "execution_count": 23,
   "metadata": {},
   "outputs": [
    {
     "name": "stdout",
     "output_type": "stream",
     "text": [
      "['above', 'over', 'more than', 'beyond', 'surpassing', 'upwards of', 'more so', 'exceeding', 'outnumbering', 'in excess of', 'distinct', 'superiors', 'betters', 'more', 'higher ups', 'outstripping', 'outpacing', 'outweighing', 'upward of', 'degree', 'higher than', 'larger than', 'faster than', 'heavier than', 'longer than', 'further', 'major', 'outperforming', 'older than', 'taller than', 'one more', 'separate', 'some other', 'upper', 'superior', 'higher', 'high', 'oversight', 'good', 'finest', 'your betters', 'older', 'greater', 'down', 'upstairs', 'advance', 'mountain', 'outracing', 'overcome', 'overcoming', 'exceed', 'outstrip', 'overstepping', 'outpace', 'beats', 'surpass', 'surpasses', 'exceeds', 'precedes', 'crossing', 'outperformed', 'outdone yourself', 'exceeded', 'excellence', 'superiority', 'outweigh', 'predominates', 'trumps', 'much', 'most', 'excess', 'just', 'only']\n"
     ]
    }
   ],
   "source": [
    "grt_synset = \"\"\"\n",
    "above\n",
    "over\n",
    "more than \n",
    "beyond \n",
    "surpassing \n",
    "upwards of \n",
    "more so \n",
    "exceeding \n",
    "outnumbering \n",
    "in excess of \n",
    "distinct \n",
    "superiors \n",
    "betters \n",
    "more\n",
    "higher ups \n",
    "outstripping \n",
    "outpacing \n",
    "outweighing \n",
    "upward of \n",
    "degree \n",
    "higher than \n",
    "larger than \n",
    "faster than \n",
    "heavier than \n",
    "longer than \n",
    "further \n",
    "major\n",
    "outperforming \n",
    "older than \n",
    "taller than \n",
    "one more \n",
    "separate \n",
    "some other \n",
    "upper\n",
    "superior \n",
    "higher \n",
    "high\n",
    "oversight \n",
    "good\n",
    "finest \n",
    "your betters \n",
    "older\n",
    "greater \n",
    "down\n",
    "upstairs \n",
    "advance \n",
    "mountain \n",
    "outracing \n",
    "overcome \n",
    "overcoming \n",
    "exceed \n",
    "outstrip \n",
    "overstepping \n",
    "outpace \n",
    "beats\n",
    "surpass \n",
    "surpasses \n",
    "exceeds \n",
    "precedes \n",
    "crossing \n",
    "outperformed \n",
    "outdone yourself\n",
    "exceeded \n",
    "excellence \n",
    "superiority \n",
    "outweigh \n",
    "predominates \n",
    "trumps \n",
    "much\n",
    "most\n",
    "excess \n",
    "just\n",
    "only\n",
    "\"\"\"\n",
    "\n",
    "list=grt_synset.split('\\n')\n",
    "#print(list)\n",
    "i = 0\n",
    "while i < len(list):\n",
    "    if(list[i].strip()==\"\"):\n",
    "        list.pop(i)\n",
    "    else:\n",
    "        list[i] = list[i].strip()\n",
    "    i+=1\n",
    "        \n",
    "\n",
    "print(list)\n",
    "        "
   ]
  }
 ],
 "metadata": {
  "kernelspec": {
   "display_name": "Python 3",
   "language": "python",
   "name": "python3"
  },
  "language_info": {
   "codemirror_mode": {
    "name": "ipython",
    "version": 3
   },
   "file_extension": ".py",
   "mimetype": "text/x-python",
   "name": "python",
   "nbconvert_exporter": "python",
   "pygments_lexer": "ipython3",
   "version": "3.7.3"
  }
 },
 "nbformat": 4,
 "nbformat_minor": 2
}
